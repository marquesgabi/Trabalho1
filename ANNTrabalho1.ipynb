{
  "nbformat": 4,
  "nbformat_minor": 0,
  "metadata": {
    "colab": {
      "name": "ANNTrabalho1.ipynb",
      "version": "0.3.2",
      "provenance": [],
      "collapsed_sections": [],
      "include_colab_link": true
    },
    "kernelspec": {
      "display_name": "Python 3",
      "language": "python",
      "name": "python3"
    }
  },
  "cells": [
    {
      "cell_type": "markdown",
      "metadata": {
        "id": "view-in-github",
        "colab_type": "text"
      },
      "source": [
        "<a href=\"https://colab.research.google.com/github/marquesgabi/Trabalho1/blob/master/ANNTrabalho1.ipynb\" target=\"_parent\"><img src=\"https://colab.research.google.com/assets/colab-badge.svg\" alt=\"Open In Colab\"/></a>"
      ]
    },
    {
      "metadata": {
        "id": "b4yMWaR_4K83",
        "colab_type": "code",
        "colab": {}
      },
      "cell_type": "code",
      "source": [
        "# bibliotecas usadas\n",
        "import os\n",
        "import numpy as np\n",
        "import pandas as pd\n",
        "import matplotlib.pyplot as plt\n",
        "from sklearn.metrics import mean_squared_error\n",
        "from sklearn.metrics import r2_score "
      ],
      "execution_count": 0,
      "outputs": []
    },
    {
      "metadata": {
        "id": "U5eQ-dhY4K9L",
        "colab_type": "code",
        "outputId": "956f1a73-11fe-47a3-b6fd-6e56c2a2f43e",
        "colab": {
          "base_uri": "https://localhost:8080/",
          "height": 170
        }
      },
      "cell_type": "code",
      "source": [
        "# local dos dados e modifica o diretorio\n",
        "#path='/home/ucfilho/Documents/Aulas/Ago_29_2018'\n",
        "#os.chdir(path)\n",
        "!git clone https://github.com/marquesgabi/Trabalho1/\n",
        "%cd Trabalho1\n",
        "!ls"
      ],
      "execution_count": 19,
      "outputs": [
        {
          "output_type": "stream",
          "text": [
            "Cloning into 'Trabalho1'...\n",
            "remote: Enumerating objects: 26, done.\u001b[K\n",
            "remote: Counting objects:   3% (1/26)   \u001b[K\rremote: Counting objects:   7% (2/26)   \u001b[K\rremote: Counting objects:  11% (3/26)   \u001b[K\rremote: Counting objects:  15% (4/26)   \u001b[K\rremote: Counting objects:  19% (5/26)   \u001b[K\rremote: Counting objects:  23% (6/26)   \u001b[K\rremote: Counting objects:  26% (7/26)   \u001b[K\rremote: Counting objects:  30% (8/26)   \u001b[K\rremote: Counting objects:  34% (9/26)   \u001b[K\rremote: Counting objects:  38% (10/26)   \u001b[K\rremote: Counting objects:  42% (11/26)   \u001b[K\rremote: Counting objects:  46% (12/26)   \u001b[K\rremote: Counting objects:  50% (13/26)   \u001b[K\rremote: Counting objects:  53% (14/26)   \u001b[K\rremote: Counting objects:  57% (15/26)   \u001b[K\rremote: Counting objects:  61% (16/26)   \u001b[K\rremote: Counting objects:  65% (17/26)   \u001b[K\rremote: Counting objects:  69% (18/26)   \u001b[K\rremote: Counting objects:  73% (19/26)   \u001b[K\rremote: Counting objects:  76% (20/26)   \u001b[K\rremote: Counting objects:  80% (21/26)   \u001b[K\rremote: Counting objects:  84% (22/26)   \u001b[K\rremote: Counting objects:  88% (23/26)   \u001b[K\rremote: Counting objects:  92% (24/26)   \u001b[K\rremote: Counting objects:  96% (25/26)   \u001b[K\rremote: Counting objects: 100% (26/26)   \u001b[K\rremote: Counting objects: 100% (26/26), done.\u001b[K\n",
            "remote: Compressing objects:   3% (1/26)   \u001b[K\rremote: Compressing objects:   7% (2/26)   \u001b[K\rremote: Compressing objects:  11% (3/26)   \u001b[K\rremote: Compressing objects:  15% (4/26)   \u001b[K\rremote: Compressing objects:  19% (5/26)   \u001b[K\rremote: Compressing objects:  23% (6/26)   \u001b[K\rremote: Compressing objects:  26% (7/26)   \u001b[K\rremote: Compressing objects:  30% (8/26)   \u001b[K\rremote: Compressing objects:  34% (9/26)   \u001b[K\rremote: Compressing objects:  38% (10/26)   \u001b[K\rremote: Compressing objects:  42% (11/26)   \u001b[K\rremote: Compressing objects:  46% (12/26)   \u001b[K\rremote: Compressing objects:  50% (13/26)   \u001b[K\rremote: Compressing objects:  53% (14/26)   \u001b[K\rremote: Compressing objects:  57% (15/26)   \u001b[K\rremote: Compressing objects:  61% (16/26)   \u001b[K\rremote: Compressing objects:  65% (17/26)   \u001b[K\rremote: Compressing objects:  69% (18/26)   \u001b[K\rremote: Compressing objects:  73% (19/26)   \u001b[K\rremote: Compressing objects:  76% (20/26)   \u001b[K\rremote: Compressing objects:  80% (21/26)   \u001b[K\rremote: Compressing objects:  84% (22/26)   \u001b[K\rremote: Compressing objects:  88% (23/26)   \u001b[K\rremote: Compressing objects:  92% (24/26)   \u001b[K\rremote: Compressing objects:  96% (25/26)   \u001b[K\rremote: Compressing objects: 100% (26/26)   \u001b[K\rremote: Compressing objects: 100% (26/26), done.\u001b[K\n",
            "Unpacking objects:   3% (1/26)   \rUnpacking objects:   7% (2/26)   \rUnpacking objects:  11% (3/26)   \rUnpacking objects:  15% (4/26)   \rUnpacking objects:  19% (5/26)   \rUnpacking objects:  23% (6/26)   \rUnpacking objects:  26% (7/26)   \rUnpacking objects:  30% (8/26)   \rUnpacking objects:  34% (9/26)   \rUnpacking objects:  38% (10/26)   \rUnpacking objects:  42% (11/26)   \rUnpacking objects:  46% (12/26)   \rUnpacking objects:  50% (13/26)   \rUnpacking objects:  53% (14/26)   \rremote: Total 26 (delta 6), reused 0 (delta 0), pack-reused 0\u001b[K\n",
            "Unpacking objects:  57% (15/26)   \rUnpacking objects:  61% (16/26)   \rUnpacking objects:  65% (17/26)   \rUnpacking objects:  69% (18/26)   \rUnpacking objects:  73% (19/26)   \rUnpacking objects:  76% (20/26)   \rUnpacking objects:  80% (21/26)   \rUnpacking objects:  84% (22/26)   \rUnpacking objects:  88% (23/26)   \rUnpacking objects:  92% (24/26)   \rUnpacking objects:  96% (25/26)   \rUnpacking objects: 100% (26/26)   \rUnpacking objects: 100% (26/26), done.\n",
            "/content/Trabalho1/Trabalho1\n",
            "'Dados_Experimentais_2 - Cópia.csv'  'Matéria ANN Trabalho 1.pdf'\n",
            " Dados_Experimentais_4.csv\n"
          ],
          "name": "stdout"
        }
      ]
    },
    {
      "metadata": {
        "id": "7VOacAEX4K9P",
        "colab_type": "code",
        "colab": {}
      },
      "cell_type": "code",
      "source": [
        "# sigmoid function                                           # usa a sigmoide no neuronio oculto\n",
        "def sigmoid(x,deriv=False):\n",
        "    if(deriv==True):\n",
        "        return x*(1-x)\n",
        "    return 1/(1+np.exp(-x))\n",
        "\n",
        "# purelin function                                           #a gaussiana é muito utilizada para classificação. aplica a purelin na saida\n",
        "def purelin(x,deriv=False):\n",
        "    if(deriv==True):\n",
        "        return 1\n",
        "    return x\n",
        "\n",
        "# normatize funcion \n",
        "def Normatiza(x):\n",
        "    strings=list(x)\n",
        "    for featur in strings:\n",
        "        max_feat=x[featur].max()\n",
        "        min_feat=x[featur].min()\n",
        "        x[featur]=(x[featur]-min_feat)/(max_feat-min_feat)\n",
        "    return x\n",
        "\n",
        "# normatize funcion\n",
        "def Original(x,x_old):\n",
        "    strings=list(x)\n",
        "    x_old.columns = list(x)                                        \n",
        "    for featur in strings:\n",
        "        max_feat=x_old[featur].max()\n",
        "        min_feat=x_old[featur].min()\n",
        "        x[featur]=x[featur]*(max_feat-min_feat)+min_feat\n",
        "    return x\n"
      ],
      "execution_count": 0,
      "outputs": []
    },
    {
      "metadata": {
        "id": "NIIANJnmaVcy",
        "colab_type": "code",
        "colab": {
          "base_uri": "https://localhost:8080/",
          "height": 544
        },
        "outputId": "68bf34ab-6a88-4851-b1ab-60e9331982cc"
      },
      "cell_type": "code",
      "source": [
        "# leitura dos dados                                               \n",
        "DAT=pd.read_csv(\"Dados_Experimentais_2 - Cópia.csv\")\n",
        "print(DAT)"
      ],
      "execution_count": 39,
      "outputs": [
        {
          "output_type": "stream",
          "text": [
            "    Temperature   Rela_Viscosity  FracaoV\n",
            "0      24.946458        1.077714     0.05\n",
            "1      34.969159        1.060571     0.05\n",
            "2      44.991859        1.043429     0.05\n",
            "3      55.016438        1.033143     0.05\n",
            "4      64.960235        1.028000     0.05\n",
            "5      25.040391        1.120571     0.10\n",
            "6      55.028180        1.076000     0.10\n",
            "7      65.053699        1.069143     0.10\n",
            "8      35.063562        1.105143     0.10\n",
            "9      45.085323        1.084571     0.10\n",
            "10     25.054481        1.172000     0.20\n",
            "11     34.995930        1.158286     0.20\n",
            "12     45.017221        1.136000     0.20\n",
            "13     55.042270        1.127429     0.20\n",
            "14     64.985597        1.120571     0.20\n",
            "15     25.078434        1.259429     0.40\n",
            "16     35.015186        1.228571     0.40\n",
            "17     45.119609        1.209714     0.40\n",
            "18     55.061526        1.197714     0.40\n",
            "19     65.080939        1.168571     0.40\n",
            "20     25.115538        1.394857     0.80\n",
            "21     35.051820        1.362286     0.80\n",
            "22     55.096282        1.324571     0.80\n",
            "23     65.120861        1.314286     0.80\n",
            "24     45.152955        1.331429     0.80\n",
            "25     25.137613        1.475429     1.00\n",
            "26     35.077652        1.456571     1.00\n",
            "27     45.095186        1.420571     1.00\n",
            "28     55.122114        1.418857     1.00\n",
            "29     65.141526        1.389714     1.00\n"
          ],
          "name": "stdout"
        }
      ]
    },
    {
      "metadata": {
        "id": "bOpY4Hqt4K9S",
        "colab_type": "code",
        "colab": {}
      },
      "cell_type": "code",
      "source": [
        "# separa as colunas de interesse\n",
        "Index=[0,1,2]\n",
        "Dat_Select=[]\n",
        "Dat_Select=DAT.iloc[:,Index].copy()\n",
        "Y_old=Dat_Select['Rela_Viscosity'].copy()\n",
        "#print(Dat_Select.head())"
      ],
      "execution_count": 0,
      "outputs": []
    },
    {
      "metadata": {
        "id": "nYEo52b2pOUP",
        "colab_type": "code",
        "colab": {
          "base_uri": "https://localhost:8080/",
          "height": 119
        },
        "outputId": "0db03be9-af76-42af-829d-b6a50a9717f4"
      },
      "cell_type": "code",
      "source": [
        "# separa os dados em normatizados e originais\n",
        "DAT_OLD=[]\n",
        "DAT_OLD=Dat_Select.copy()\n",
        "DAT=Normatiza(Dat_Select)\n",
        "print(Dat_Select.head())"
      ],
      "execution_count": 41,
      "outputs": [
        {
          "output_type": "stream",
          "text": [
            "   Temperature   Rela_Viscosity  FracaoV\n",
            "0      0.000000        0.111111      0.0\n",
            "1      0.249351        0.072797      0.0\n",
            "2      0.498703        0.034483      0.0\n",
            "3      0.748101        0.011494      0.0\n",
            "4      0.995490        0.000000      0.0\n"
          ],
          "name": "stdout"
        }
      ]
    },
    {
      "metadata": {
        "id": "aBqZBqnBpTHu",
        "colab_type": "code",
        "colab": {}
      },
      "cell_type": "code",
      "source": [
        "# separa os dados em treino e teste\n",
        "train=[]\n",
        "test=[]\n",
        "train=DAT.sample(frac=0.8,random_state=None).copy()\n",
        "test=DAT.drop(train.index).copy()"
      ],
      "execution_count": 0,
      "outputs": []
    },
    {
      "metadata": {
        "id": "myFpUt457-B0",
        "colab_type": "code",
        "colab": {
          "base_uri": "https://localhost:8080/",
          "height": 204
        },
        "outputId": "42fa0676-b975-4f45-936b-e38444a1e17e"
      },
      "cell_type": "code",
      "source": [
        "#X_train=train.loc[DAT['Temperature']==DAT['Temperature'],['Temperature','FracaoV']].values \n",
        "#X_test=test.loc[DAT['Temperature']==DAT['Temperature'],['Temperature','FracaoV']].values\n",
        "#Y_test=train.loc[DAT['Temperature']==DAT['Temperature'],['Rela_Viscosity']].values\n",
        "#Y_train=train.loc[DAT['Temperature']==DAT['Temperature'],['Rela_Viscosity']].values\n",
        "Indice=[0,2] #cria uma lista que depois vai fazer ref as colunas\n",
        "train_x=[]\n",
        "train_x=train.iloc[:,Indice].copy() #iloc vai varrer todas as linhas das duas primeiras colunas (Indice) e armazenar em train_x, #pegando as duas primeiras colunas que sao as entradas para treinar\n",
        "test_x=[]\n",
        "test_x=test.iloc[:,Indice].copy()\n",
        "Indice=[1] #pegando as colunas da saida\n",
        "train_y=[]\n",
        "train_y=train.iloc[:,Indice].copy()\n",
        "test_y=[]\n",
        "test_y=test.iloc[:,Indice].copy()\n",
        "train_x.head()"
      ],
      "execution_count": 25,
      "outputs": [
        {
          "output_type": "execute_result",
          "data": {
            "text/html": [
              "<div>\n",
              "<style scoped>\n",
              "    .dataframe tbody tr th:only-of-type {\n",
              "        vertical-align: middle;\n",
              "    }\n",
              "\n",
              "    .dataframe tbody tr th {\n",
              "        vertical-align: top;\n",
              "    }\n",
              "\n",
              "    .dataframe thead th {\n",
              "        text-align: right;\n",
              "    }\n",
              "</style>\n",
              "<table border=\"1\" class=\"dataframe\">\n",
              "  <thead>\n",
              "    <tr style=\"text-align: right;\">\n",
              "      <th></th>\n",
              "      <th>Temperature</th>\n",
              "      <th>FracaoV</th>\n",
              "    </tr>\n",
              "  </thead>\n",
              "  <tbody>\n",
              "    <tr>\n",
              "      <th>8</th>\n",
              "      <td>0.251700</td>\n",
              "      <td>0.052632</td>\n",
              "    </tr>\n",
              "    <tr>\n",
              "      <th>21</th>\n",
              "      <td>0.251408</td>\n",
              "      <td>0.789474</td>\n",
              "    </tr>\n",
              "    <tr>\n",
              "      <th>12</th>\n",
              "      <td>0.499334</td>\n",
              "      <td>0.157895</td>\n",
              "    </tr>\n",
              "    <tr>\n",
              "      <th>24</th>\n",
              "      <td>0.502711</td>\n",
              "      <td>0.789474</td>\n",
              "    </tr>\n",
              "    <tr>\n",
              "      <th>16</th>\n",
              "      <td>0.250497</td>\n",
              "      <td>0.368421</td>\n",
              "    </tr>\n",
              "  </tbody>\n",
              "</table>\n",
              "</div>"
            ],
            "text/plain": [
              "    Temperature    FracaoV\n",
              "8       0.251700  0.052632\n",
              "21      0.251408  0.789474\n",
              "12      0.499334  0.157895\n",
              "24      0.502711  0.789474\n",
              "16      0.250497  0.368421"
            ]
          },
          "metadata": {
            "tags": []
          },
          "execution_count": 25
        }
      ]
    },
    {
      "metadata": {
        "id": "eL3bD8g78yCZ",
        "colab_type": "code",
        "colab": {
          "base_uri": "https://localhost:8080/",
          "height": 119
        },
        "outputId": "1049f680-8c71-44e3-c573-ef65059100f6"
      },
      "cell_type": "code",
      "source": [
        "print (train_y.head())"
      ],
      "execution_count": 26,
      "outputs": [
        {
          "output_type": "stream",
          "text": [
            "    Rela_Viscosity\n",
            "8         0.172414\n",
            "21        0.747126\n",
            "12        0.241379\n",
            "24        0.678161\n",
            "16        0.448276\n"
          ],
          "name": "stdout"
        }
      ]
    },
    {
      "metadata": {
        "id": "WUv1HKJblh5l",
        "colab_type": "code",
        "colab": {
          "base_uri": "https://localhost:8080/",
          "height": 190
        },
        "outputId": "036f3cee-b105-4d06-a00e-68105808d3ce"
      },
      "cell_type": "code",
      "source": [
        "from sklearn.neural_network import MLPRegressor     #multi layer regressao\n",
        "clf=MLPRegressor(solver='lbfgs', activation='tanh', alpha=1e-5, hidden_layer_sizes=(12), random_state=1)     #usa purelin como funcao de ativaçao na entrada e na saida e a tg hiperbólica para a fc de ativaçao da camada oculta. 2 camasas ocultas: 1 com 9 neuronios e outra com 8 neuronios.\n",
        "clf.fit(train_x,train_y)"
      ],
      "execution_count": 29,
      "outputs": [
        {
          "output_type": "stream",
          "text": [
            "/usr/local/lib/python3.6/dist-packages/sklearn/neural_network/multilayer_perceptron.py:1306: DataConversionWarning: A column-vector y was passed when a 1d array was expected. Please change the shape of y to (n_samples, ), for example using ravel().\n",
            "  y = column_or_1d(y, warn=True)\n"
          ],
          "name": "stderr"
        },
        {
          "output_type": "execute_result",
          "data": {
            "text/plain": [
              "MLPRegressor(activation='tanh', alpha=1e-05, batch_size='auto', beta_1=0.9,\n",
              "       beta_2=0.999, early_stopping=False, epsilon=1e-08,\n",
              "       hidden_layer_sizes=12, learning_rate='constant',\n",
              "       learning_rate_init=0.001, max_iter=200, momentum=0.9,\n",
              "       nesterovs_momentum=True, power_t=0.5, random_state=1, shuffle=True,\n",
              "       solver='lbfgs', tol=0.0001, validation_fraction=0.1, verbose=False,\n",
              "       warm_start=False)"
            ]
          },
          "metadata": {
            "tags": []
          },
          "execution_count": 29
        }
      ]
    },
    {
      "metadata": {
        "id": "UsPYeSJ6mXQ8",
        "colab_type": "code",
        "colab": {
          "base_uri": "https://localhost:8080/",
          "height": 34
        },
        "outputId": "0742b9d3-810b-48e7-a1a1-25217d3b8267"
      },
      "cell_type": "code",
      "source": [
        "w_train=clf.predict(train_x) #estou pedindo para a rede predizer a saida com os valores da entrada x. está em formato de lista\n",
        "w_test=clf.predict(test_x)\n",
        "print(w_test)"
      ],
      "execution_count": 30,
      "outputs": [
        {
          "output_type": "stream",
          "text": [
            "[0.10195756 0.20152848 0.09126723 0.18808085 0.34878425 0.7931857 ]\n"
          ],
          "name": "stdout"
        }
      ]
    },
    {
      "metadata": {
        "id": "TEINcOleminG",
        "colab_type": "code",
        "colab": {
          "base_uri": "https://localhost:8080/",
          "height": 119
        },
        "outputId": "3955df40-4c25-4bd6-e07a-1742a88875ed"
      },
      "cell_type": "code",
      "source": [
        "w_test=pd.DataFrame(w_test) #transformando em data frame, voltando o indice. \n",
        "col_names=list(train_y)\n",
        "w_test.columns=col_names\n",
        "print(w_test.head())"
      ],
      "execution_count": 31,
      "outputs": [
        {
          "output_type": "stream",
          "text": [
            "   Rela_Viscosity\n",
            "0        0.101958\n",
            "1        0.201528\n",
            "2        0.091267\n",
            "3        0.188081\n",
            "4        0.348784\n"
          ],
          "name": "stdout"
        }
      ]
    },
    {
      "metadata": {
        "id": "7TXZkDV3mtwc",
        "colab_type": "code",
        "colab": {
          "base_uri": "https://localhost:8080/",
          "height": 119
        },
        "outputId": "2bb648fd-39f2-4fe5-812c-f225739b1003"
      },
      "cell_type": "code",
      "source": [
        "DAT=pd.read_csv('Dados_Experimentais_2 - Cópia.csv')\n",
        "DAT_select=[]\n",
        "Indice=[1]\n",
        "DAT_select=DAT.iloc[:,Indice].copy()\n",
        "print(DAT_select.head())"
      ],
      "execution_count": 32,
      "outputs": [
        {
          "output_type": "stream",
          "text": [
            "   Rela_Viscosity\n",
            "0        1.077714\n",
            "1        1.060571\n",
            "2        1.043429\n",
            "3        1.033143\n",
            "4        1.028000\n"
          ],
          "name": "stdout"
        }
      ]
    },
    {
      "metadata": {
        "id": "oOyj7JkBmj7f",
        "colab_type": "code",
        "colab": {
          "base_uri": "https://localhost:8080/",
          "height": 119
        },
        "outputId": "ff02fe6c-29d9-40b8-d4cd-645f5443ab62"
      },
      "cell_type": "code",
      "source": [
        "w_train=pd.DataFrame(w_train) #transformando em data frame, voltando o indice. \n",
        "#col_names=list(train_y)\n",
        "w_train.columns=col_names\n",
        "print(w_train.head())"
      ],
      "execution_count": 33,
      "outputs": [
        {
          "output_type": "stream",
          "text": [
            "   Rela_Viscosity\n",
            "0        0.153475\n",
            "1        0.781786\n",
            "2        0.215931\n",
            "3        0.729559\n",
            "4        0.446331\n"
          ],
          "name": "stdout"
        }
      ]
    },
    {
      "metadata": {
        "id": "TAVOOJW6n07D",
        "colab_type": "code",
        "colab": {
          "base_uri": "https://localhost:8080/",
          "height": 364
        },
        "outputId": "29e831bd-c6f0-4ac3-c044-0f91da540f25"
      },
      "cell_type": "code",
      "source": [
        "w_train= Original(train_y,DAT_select)\n",
        "w_test= Original(test_y,DAT_select)\n",
        "\n",
        "test_y=Original(test_y,DAT_select) #só com o y, pq eu quero comparar os meus dados da saída\n",
        "y1= test_y['Rela_Viscosity']\n",
        "y2= w_test['Rela_Viscosity']\n",
        "plt.scatter(y1,y2)"
      ],
      "execution_count": 34,
      "outputs": [
        {
          "output_type": "execute_result",
          "data": {
            "text/plain": [
              "<matplotlib.collections.PathCollection at 0x7f80808d15f8>"
            ]
          },
          "metadata": {
            "tags": []
          },
          "execution_count": 34
        },
        {
          "output_type": "display_data",
          "data": {
            "image/png": "[encoded data removed]",
            "text/plain": [
              "<matplotlib.figure.Figure at 0x7f80808fa3c8>"
            ]
          },
          "metadata": {
            "tags": []
          }
        }
      ]
    },
    {
      "metadata": {
        "id": "Y-CdnH1bI70Q",
        "colab_type": "code",
        "colab": {
          "base_uri": "https://localhost:8080/",
          "height": 119
        },
        "outputId": "30b700a6-5bc7-4605-e4a6-69853519f8af"
      },
      "cell_type": "code",
      "source": [
        "print(DAT.head())"
      ],
      "execution_count": 44,
      "outputs": [
        {
          "output_type": "stream",
          "text": [
            "   Temperature   Rela_Viscosity  FracaoV\n",
            "0      0.000000        0.111111      0.0\n",
            "1      0.249351        0.072797      0.0\n",
            "2      0.498703        0.034483      0.0\n",
            "3      0.748101        0.011494      0.0\n",
            "4      0.995490        0.000000      0.0\n"
          ],
          "name": "stdout"
        }
      ]
    },
    {
      "metadata": {
        "id": "oOD2JugLJJY1",
        "colab_type": "code",
        "colab": {
          "base_uri": "https://localhost:8080/",
          "height": 130
        },
        "outputId": "c3b7e93c-4cd8-49be-c844-e33b5d6ea156"
      },
      "cell_type": "code",
      "source": [
        "x=[]\n",
        "#x=DAT[['Temperature','Rela_Viscosity','FracaoV']]).copy()\n",
        "x=DAT['Temperature','Rela_Viscosity','FracaoV']).copy()\n",
        "print(x.head())"
      ],
      "execution_count": 51,
      "outputs": [
        {
          "output_type": "error",
          "ename": "SyntaxError",
          "evalue": "ignored",
          "traceback": [
            "\u001b[0;36m  File \u001b[0;32m\"<ipython-input-51-2d5bdaef2f81>\"\u001b[0;36m, line \u001b[0;32m2\u001b[0m\n\u001b[0;31m    x=DAT[['Temperature','Rela_Viscosity','FracaoV']]).copy()\u001b[0m\n\u001b[0m                                                     ^\u001b[0m\n\u001b[0;31mSyntaxError\u001b[0m\u001b[0;31m:\u001b[0m invalid syntax\n"
          ]
        }
      ]
    },
    {
      "metadata": {
        "id": "jPwkJVv6dJrm",
        "colab_type": "code",
        "colab": {}
      },
      "cell_type": "code",
      "source": [
        ""
      ],
      "execution_count": 0,
      "outputs": []
    }
  ]
}